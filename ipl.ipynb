{
  "nbformat": 4,
  "nbformat_minor": 0,
  "metadata": {
    "colab": {
      "name": "Untitled11.ipynb",
      "provenance": [],
      "mount_file_id": "https://github.com/Farheena12/Assignment-with-Sql/blob/main/ipl.ipynb",
      "authorship_tag": "ABX9TyOmg+Isv4dACXNvmDNeKz4u",
      "include_colab_link": true
    },
    "kernelspec": {
      "name": "python3",
      "display_name": "Python 3"
    },
    "language_info": {
      "name": "python"
    }
  },
  "cells": [
    {
      "cell_type": "markdown",
      "metadata": {
        "id": "view-in-github",
        "colab_type": "text"
      },
      "source": [
        "<a href=\"https://colab.research.google.com/github/Farheena12/Assignment-with-Sql/blob/main/ipl.ipynb\" target=\"_parent\"><img src=\"https://colab.research.google.com/assets/colab-badge.svg\" alt=\"Open In Colab\"/></a>"
      ]
    },
    {
      "cell_type": "markdown",
      "source": [
        "**Assessment for DE Internship at DataGrokr**"
      ],
      "metadata": {
        "id": "bRK82QF-GMed"
      }
    },
    {
      "cell_type": "markdown",
      "source": [
        "Section 1: Environment setup and data loading"
      ],
      "metadata": {
        "id": "SHGQvteoGazL"
      }
    },
    {
      "cell_type": "code",
      "source": [
        "!apt-get install openjdk-8-jdk-headless -qq > /dev/null"
      ],
      "metadata": {
        "id": "MH8-mbOuGdNr"
      },
      "execution_count": 1,
      "outputs": []
    },
    {
      "cell_type": "code",
      "source": [
        "!wget -q https://archive.apache.org/dist/spark/spark-3.1.2/spark-3.1.2-bin-hadoop2.7.tgz"
      ],
      "metadata": {
        "id": "hYETYeQCGm_5"
      },
      "execution_count": 2,
      "outputs": []
    },
    {
      "cell_type": "code",
      "source": [
        "!tar xf spark-3.1.2-bin-hadoop2.7.tgz"
      ],
      "metadata": {
        "id": "kTFdTv2EG2MO"
      },
      "execution_count": 3,
      "outputs": []
    },
    {
      "cell_type": "code",
      "source": [
        "import os\n",
        "os.environ[\"JAVA_HOME\"] = \"/usr/lib/jvm/java-8-openjdk-amd64\"\n",
        "os.environ[\"SPARK_HOME\"] = \"/content/spark-3.1.2-bin-hadoop2.7\""
      ],
      "metadata": {
        "id": "Mf_pq1MzG8zr"
      },
      "execution_count": 27,
      "outputs": []
    },
    {
      "cell_type": "code",
      "source": [
        "!pip install -q findspark\n",
        "import findspark\n",
        "findspark.init()"
      ],
      "metadata": {
        "id": "iuKTywgKHQVj"
      },
      "execution_count": 28,
      "outputs": []
    },
    {
      "cell_type": "code",
      "source": [
        "from pyspark.sql.functions import *"
      ],
      "metadata": {
        "id": "zKgu6jsqOdfg"
      },
      "execution_count": 32,
      "outputs": []
    },
    {
      "cell_type": "code",
      "source": [
        "from pyspark.sql import SparkSession\n",
        "spark = (SparkSession.builder.appName(\"iplapp\").getOrCreate())"
      ],
      "metadata": {
        "id": "tWbszNblI285"
      },
      "execution_count": 33,
      "outputs": []
    },
    {
      "cell_type": "code",
      "source": [
        "df1 = spark.read.load(\"/content/ipl_ball_by_ball.csv\",format=\"csv\", sep=\";\", header=\"true\")"
      ],
      "metadata": {
        "id": "-FSk2NhkLwmh"
      },
      "execution_count": 46,
      "outputs": []
    },
    {
      "cell_type": "code",
      "source": [
        "#read the dataset\n",
        "df1 = spark.read.option('header','True').csv('/content/ipl_ball_by_ball.csv')"
      ],
      "metadata": {
        "id": "yAitgWM5Uox-"
      },
      "execution_count": 47,
      "outputs": []
    },
    {
      "cell_type": "code",
      "source": [
        "df1.printSchema()"
      ],
      "metadata": {
        "id": "HxSuNNE7U4s2",
        "colab": {
          "base_uri": "https://localhost:8080/"
        },
        "outputId": "8768a874-66a4-43f1-aa62-359a159939e9"
      },
      "execution_count": 48,
      "outputs": [
        {
          "output_type": "stream",
          "name": "stdout",
          "text": [
            "root\n",
            " |-- match_id: string (nullable = true)\n",
            " |-- inning: string (nullable = true)\n",
            " |-- overs: string (nullable = true)\n",
            " |-- ball: string (nullable = true)\n",
            " |-- batsman: string (nullable = true)\n",
            " |-- non_striker: string (nullable = true)\n",
            " |-- bowler: string (nullable = true)\n",
            " |-- batsman_runs: string (nullable = true)\n",
            " |-- extra_runs: string (nullable = true)\n",
            " |-- total_runs: string (nullable = true)\n",
            " |-- non_boundary: string (nullable = true)\n",
            " |-- is_wicket: string (nullable = true)\n",
            " |-- dismissal_kind: string (nullable = true)\n",
            " |-- player_dismissed: string (nullable = true)\n",
            " |-- fielder: string (nullable = true)\n",
            " |-- extras_type: string (nullable = true)\n",
            " |-- batting_team: string (nullable = true)\n",
            " |-- bowling_team: string (nullable = true)\n",
            "\n"
          ]
        }
      ]
    },
    {
      "cell_type": "code",
      "source": [
        "df_ball = df1.withColumn('inning',col('inning').cast('int'))\n",
        "df_ball = df1.withColumn('overs',col('overs').cast('int'))\n",
        "df_ball = df1.withColumn('batsman',col('batsman').cast('varchar(100)'))\n",
        "df_ball = df1.withColumn('non_striker',col('non_striker').cast('varchar(100)'))\n",
        "df_ball = df1.withColumn('baller',col('bowler').cast('varchar(100)'))\n",
        "df_ball = df1.withColumn('batsman_runs',col('batsman_runs').cast('int'))\n",
        "df_ball = df1.withColumn('extra_runs',col('extra_runs').cast('int'))\n",
        "df_ball = df1.withColumn('total_runs',col('total_runs').cast('int'))\n",
        "df_ball = df1.withColumn('non_boundary',col('non_boundary').cast('int'))\n",
        "df_ball = df1.withColumn('is_wicket', col('is_wicket').cast('int'))\n",
        "df_ball = df1.withColumn('dismissal_kind',col('dismissal_kind').cast('varchar(10)'))\n",
        "df_ball = df1.withColumn('player_dismissed',col('player_dismissed').cast('varchar(100)'))\n",
        "df_ball = df1.withColumn('fielder',col('fielder').cast('varchar(100)'))\n",
        "df_ball = df1.withColumn('extras_type',col('batting_team').cast('varchar(100)'))\n",
        "df_ball = df1.withColumn('bowling_team',col('bowling_team').cast('varchar(100)'))\n",
        "df_ball = df1.withColumn('match_id',col('match_id').cast('int'))"
      ],
      "metadata": {
        "id": "UMYkPVb3HfB7"
      },
      "execution_count": 51,
      "outputs": []
    },
    {
      "cell_type": "code",
      "source": [
        "df_ball.printSchema()"
      ],
      "metadata": {
        "colab": {
          "base_uri": "https://localhost:8080/"
        },
        "id": "7Jcy7Av8NdzQ",
        "outputId": "26fcd5e4-8907-4a09-9589-abb3d9238c05"
      },
      "execution_count": 50,
      "outputs": [
        {
          "output_type": "stream",
          "name": "stdout",
          "text": [
            "root\n",
            " |-- match_id: integer (nullable = true)\n",
            " |-- inning: string (nullable = true)\n",
            " |-- overs: string (nullable = true)\n",
            " |-- ball: string (nullable = true)\n",
            " |-- batsman: string (nullable = true)\n",
            " |-- non_striker: string (nullable = true)\n",
            " |-- bowler: string (nullable = true)\n",
            " |-- batsman_runs: string (nullable = true)\n",
            " |-- extra_runs: string (nullable = true)\n",
            " |-- total_runs: string (nullable = true)\n",
            " |-- non_boundary: string (nullable = true)\n",
            " |-- is_wicket: string (nullable = true)\n",
            " |-- dismissal_kind: string (nullable = true)\n",
            " |-- player_dismissed: string (nullable = true)\n",
            " |-- fielder: string (nullable = true)\n",
            " |-- extras_type: string (nullable = true)\n",
            " |-- batting_team: string (nullable = true)\n",
            " |-- bowling_team: string (nullable = true)\n",
            "\n"
          ]
        }
      ]
    },
    {
      "cell_type": "code",
      "source": [
        "df_ball.show()"
      ],
      "metadata": {
        "colab": {
          "base_uri": "https://localhost:8080/"
        },
        "id": "VSWMODbmUA_l",
        "outputId": "e7c00fd2-4eba-4a5e-b481-7a62a65d075d"
      },
      "execution_count": 52,
      "outputs": [
        {
          "output_type": "stream",
          "name": "stdout",
          "text": [
            "+--------+------+-----+----+-------------+-------------+------------+------------+----------+----------+------------+---------+--------------+----------------+-------+-----------+--------------------+--------------------+\n",
            "|match_id|inning|overs|ball|      batsman|  non_striker|      bowler|batsman_runs|extra_runs|total_runs|non_boundary|is_wicket|dismissal_kind|player_dismissed|fielder|extras_type|        batting_team|        bowling_team|\n",
            "+--------+------+-----+----+-------------+-------------+------------+------------+----------+----------+------------+---------+--------------+----------------+-------+-----------+--------------------+--------------------+\n",
            "|  419157|     2|   16|   4|      V Kohli|R Vinay Kumar|CRD Fernando|           0|         0|         0|           0|        0|            NA|              NA|     NA|         NA|Royal Challengers...|      Mumbai Indians|\n",
            "|  419157|     2|   16|   5|      V Kohli|R Vinay Kumar|CRD Fernando|           1|         0|         1|           0|        0|            NA|              NA|     NA|         NA|Royal Challengers...|      Mumbai Indians|\n",
            "|  419157|     2|   16|   6|R Vinay Kumar|      V Kohli|CRD Fernando|           1|         0|         1|           0|        0|            NA|              NA|     NA|         NA|Royal Challengers...|      Mumbai Indians|\n",
            "|  419157|     2|   17|   1|R Vinay Kumar|      V Kohli|   R McLaren|           1|         0|         1|           0|        0|            NA|              NA|     NA|         NA|Royal Challengers...|      Mumbai Indians|\n",
            "|  419157|     2|   17|   2|      V Kohli|R Vinay Kumar|   R McLaren|           1|         0|         1|           0|        0|            NA|              NA|     NA|         NA|Royal Challengers...|      Mumbai Indians|\n",
            "|  419157|     2|   17|   3|R Vinay Kumar|      V Kohli|   R McLaren|           0|         0|         0|           0|        0|            NA|              NA|     NA|         NA|Royal Challengers...|      Mumbai Indians|\n",
            "|  419157|     2|   17|   4|R Vinay Kumar|      V Kohli|   R McLaren|           0|         0|         0|           0|        0|            NA|              NA|     NA|         NA|Royal Challengers...|      Mumbai Indians|\n",
            "|  419157|     2|   17|   5|R Vinay Kumar|      V Kohli|   R McLaren|           1|         0|         1|           0|        0|            NA|              NA|     NA|         NA|Royal Challengers...|      Mumbai Indians|\n",
            "|  419157|     2|   17|   6|      V Kohli|R Vinay Kumar|   R McLaren|           1|         0|         1|           0|        0|            NA|              NA|     NA|         NA|Royal Challengers...|      Mumbai Indians|\n",
            "|  419157|     2|   18|   1|      V Kohli|R Vinay Kumar|  KA Pollard|           4|         0|         4|           0|        0|            NA|              NA|     NA|         NA|Royal Challengers...|      Mumbai Indians|\n",
            "|  419157|     2|   18|   2|      V Kohli|R Vinay Kumar|  KA Pollard|           0|         0|         0|           0|        1|        caught|         V Kohli|AP Tare|         NA|Royal Challengers...|      Mumbai Indians|\n",
            "|  419157|     2|   18|   3|R Vinay Kumar| Pankaj Singh|  KA Pollard|           0|         1|         1|           0|        0|            NA|              NA|     NA|      wides|Royal Challengers...|      Mumbai Indians|\n",
            "|  419157|     2|   18|   4|R Vinay Kumar| Pankaj Singh|  KA Pollard|           1|         0|         1|           0|        0|            NA|              NA|     NA|         NA|Royal Challengers...|      Mumbai Indians|\n",
            "|  419157|     2|   18|   5| Pankaj Singh|R Vinay Kumar|  KA Pollard|           1|         0|         1|           0|        0|            NA|              NA|     NA|         NA|Royal Challengers...|      Mumbai Indians|\n",
            "|  419157|     2|   18|   6|R Vinay Kumar| Pankaj Singh|  KA Pollard|           1|         0|         1|           0|        0|            NA|              NA|     NA|         NA|Royal Challengers...|      Mumbai Indians|\n",
            "|  419157|     2|   18|   7| Pankaj Singh|R Vinay Kumar|  KA Pollard|           0|         0|         0|           0|        1|        caught|    Pankaj Singh| Z Khan|         NA|Royal Challengers...|      Mumbai Indians|\n",
            "|  419157|     2|   19|   1|     A Kumble|R Vinay Kumar|   R McLaren|           0|         0|         0|           0|        0|            NA|              NA|     NA|         NA|Royal Challengers...|      Mumbai Indians|\n",
            "|  419157|     1|    0|   1|    R McLaren| SR Tendulkar|    DW Steyn|           1|         0|         1|           0|        0|            NA|              NA|     NA|         NA|      Mumbai Indians|Royal Challengers...|\n",
            "|  419157|     1|    0|   2| SR Tendulkar|    R McLaren|    DW Steyn|           0|         0|         0|           0|        0|            NA|              NA|     NA|         NA|      Mumbai Indians|Royal Challengers...|\n",
            "|  419157|     1|    0|   3| SR Tendulkar|    R McLaren|    DW Steyn|           1|         0|         1|           0|        0|            NA|              NA|     NA|         NA|      Mumbai Indians|Royal Challengers...|\n",
            "+--------+------+-----+----+-------------+-------------+------------+------------+----------+----------+------------+---------+--------------+----------------+-------+-----------+--------------------+--------------------+\n",
            "only showing top 20 rows\n",
            "\n"
          ]
        }
      ]
    },
    {
      "cell_type": "code",
      "source": [
        "df2 = spark.read.load(\"/content/ipl_matches.csv\",format=\"csv\", sep=\";\", header=\"true\")"
      ],
      "metadata": {
        "id": "Cr_M0w3jen-X"
      },
      "execution_count": 53,
      "outputs": []
    },
    {
      "cell_type": "code",
      "source": [
        "df2.printSchema()"
      ],
      "metadata": {
        "colab": {
          "base_uri": "https://localhost:8080/"
        },
        "id": "UofW56IAgH4f",
        "outputId": "e1f77f6d-fd54-4026-cf4a-f09959dd802a"
      },
      "execution_count": 63,
      "outputs": [
        {
          "output_type": "stream",
          "name": "stdout",
          "text": [
            "root\n",
            " |-- match_id: string (nullable = true)\n",
            " |-- date: string (nullable = true)\n",
            " |-- player_of_match: string (nullable = true)\n",
            " |-- venue_id: string (nullable = true)\n",
            " |-- neutral_venue: string (nullable = true)\n",
            " |-- team1: string (nullable = true)\n",
            " |-- team2: string (nullable = true)\n",
            " |-- toss_winner: string (nullable = true)\n",
            " |-- toss_decision: string (nullable = true)\n",
            " |-- winner: string (nullable = true)\n",
            " |-- result: string (nullable = true)\n",
            " |-- result_margin: string (nullable = true)\n",
            " |-- eliminator: string (nullable = true)\n",
            " |-- method: string (nullable = true)\n",
            " |-- umpire1: string (nullable = true)\n",
            " |-- umpire2: string (nullable = true)\n",
            "\n"
          ]
        }
      ]
    },
    {
      "cell_type": "code",
      "source": [
        "#read the dataset\n",
        "df2 = spark.read.option('header','True').csv('/content/ipl_matches.csv')"
      ],
      "metadata": {
        "id": "E1LADWsbe3xZ"
      },
      "execution_count": 62,
      "outputs": []
    },
    {
      "cell_type": "code",
      "source": [
        "df_matches = df2.withColumn('match_id',col('match_id').cast('int'))\n",
        "df_matches = df2.withColumn('date',col('date').cast('datetime'))\n",
        "df_matches = df2.withColumn('player_of_match',col('player_of_match').cast('varchar(100)'))\n",
        "df_matches = df2.withColumn('team1',col('team1').cast('varchar(100)'))\n",
        "df_matches = df2.withColumn('team2',col('team2').cast('varchar(100)'))\n",
        "df_matches = df2.withColumn('toss_winner',col('toss_winner').cast('varchar(100)'))\n",
        "df_matches = df2.withColumn('toss_decision',col('toss_decision').cast('varchar(20)'))\n",
        "df_matches = df2.withColumn('winner',col('winner').cast('varchar(100)'))\n",
        "df_matches = df2.withColumn('result',col('result').cast('varchar(20)'))\n",
        "df_matches = df2.withColumn('result_margin',col('result_margin').cast('int'))\n",
        "df_matches = df2.withColumn('eliminator', col('eliminator').cast('varchar(1)'))\n",
        "df_matches = df2.withColumn('method',col('method').cast('varchar(5)'))\n",
        "df_matches = df2.withColumn('umpire1',col('umpire1').cast('varchar(50)'))\n",
        "df_matches = df2.withColumn('umpire2',col('umpire2').cast('varchar(50)'))\n",
        "df_matches = df2.withColumn('venue_id',col('venue_id').cast('int'))"
      ],
      "metadata": {
        "colab": {
          "base_uri": "https://localhost:8080/",
          "height": 469
        },
        "id": "uW-m2FiJgNFE",
        "outputId": "ff878a25-141e-47c2-c09a-1a5dc9a2fd86"
      },
      "execution_count": 61,
      "outputs": [
        {
          "output_type": "error",
          "ename": "ParseException",
          "evalue": "ignored",
          "traceback": [
            "\u001b[0;31m---------------------------------------------------------------------------\u001b[0m",
            "\u001b[0;31mParseException\u001b[0m                            Traceback (most recent call last)",
            "\u001b[0;32m<ipython-input-61-4d47166d9a1e>\u001b[0m in \u001b[0;36m<module>\u001b[0;34m()\u001b[0m\n\u001b[1;32m      1\u001b[0m \u001b[0mdf_matches\u001b[0m \u001b[0;34m=\u001b[0m \u001b[0mdf2\u001b[0m\u001b[0;34m.\u001b[0m\u001b[0mwithColumn\u001b[0m\u001b[0;34m(\u001b[0m\u001b[0;34m'match_id'\u001b[0m\u001b[0;34m,\u001b[0m\u001b[0mcol\u001b[0m\u001b[0;34m(\u001b[0m\u001b[0;34m'match_id'\u001b[0m\u001b[0;34m)\u001b[0m\u001b[0;34m.\u001b[0m\u001b[0mcast\u001b[0m\u001b[0;34m(\u001b[0m\u001b[0;34m'int'\u001b[0m\u001b[0;34m)\u001b[0m\u001b[0;34m)\u001b[0m\u001b[0;34m\u001b[0m\u001b[0;34m\u001b[0m\u001b[0m\n\u001b[0;32m----> 2\u001b[0;31m \u001b[0mdf_matches\u001b[0m \u001b[0;34m=\u001b[0m \u001b[0mdf2\u001b[0m\u001b[0;34m.\u001b[0m\u001b[0mwithColumn\u001b[0m\u001b[0;34m(\u001b[0m\u001b[0;34m'date'\u001b[0m\u001b[0;34m,\u001b[0m\u001b[0mcol\u001b[0m\u001b[0;34m(\u001b[0m\u001b[0;34m'date'\u001b[0m\u001b[0;34m)\u001b[0m\u001b[0;34m.\u001b[0m\u001b[0mcast\u001b[0m\u001b[0;34m(\u001b[0m\u001b[0;34m'datetime'\u001b[0m\u001b[0;34m)\u001b[0m\u001b[0;34m)\u001b[0m\u001b[0;34m\u001b[0m\u001b[0;34m\u001b[0m\u001b[0m\n\u001b[0m\u001b[1;32m      3\u001b[0m \u001b[0mdf_matches\u001b[0m \u001b[0;34m=\u001b[0m \u001b[0mdf2\u001b[0m\u001b[0;34m.\u001b[0m\u001b[0mwithColumn\u001b[0m\u001b[0;34m(\u001b[0m\u001b[0;34m'player_of_match'\u001b[0m\u001b[0;34m,\u001b[0m\u001b[0mcol\u001b[0m\u001b[0;34m(\u001b[0m\u001b[0;34m'player_of_match'\u001b[0m\u001b[0;34m)\u001b[0m\u001b[0;34m.\u001b[0m\u001b[0mcast\u001b[0m\u001b[0;34m(\u001b[0m\u001b[0;34m'varchar(100)'\u001b[0m\u001b[0;34m)\u001b[0m\u001b[0;34m)\u001b[0m\u001b[0;34m\u001b[0m\u001b[0;34m\u001b[0m\u001b[0m\n\u001b[1;32m      4\u001b[0m \u001b[0mdf_matches\u001b[0m \u001b[0;34m=\u001b[0m \u001b[0mdf2\u001b[0m\u001b[0;34m.\u001b[0m\u001b[0mwithColumn\u001b[0m\u001b[0;34m(\u001b[0m\u001b[0;34m'team1'\u001b[0m\u001b[0;34m,\u001b[0m\u001b[0mcol\u001b[0m\u001b[0;34m(\u001b[0m\u001b[0;34m'team1'\u001b[0m\u001b[0;34m)\u001b[0m\u001b[0;34m.\u001b[0m\u001b[0mcast\u001b[0m\u001b[0;34m(\u001b[0m\u001b[0;34m'varchar(100)'\u001b[0m\u001b[0;34m)\u001b[0m\u001b[0;34m)\u001b[0m\u001b[0;34m\u001b[0m\u001b[0;34m\u001b[0m\u001b[0m\n\u001b[1;32m      5\u001b[0m \u001b[0mdf_matches\u001b[0m \u001b[0;34m=\u001b[0m \u001b[0mdf2\u001b[0m\u001b[0;34m.\u001b[0m\u001b[0mwithColumn\u001b[0m\u001b[0;34m(\u001b[0m\u001b[0;34m'team2'\u001b[0m\u001b[0;34m,\u001b[0m\u001b[0mcol\u001b[0m\u001b[0;34m(\u001b[0m\u001b[0;34m'team2'\u001b[0m\u001b[0;34m)\u001b[0m\u001b[0;34m.\u001b[0m\u001b[0mcast\u001b[0m\u001b[0;34m(\u001b[0m\u001b[0;34m'varchar(100)'\u001b[0m\u001b[0;34m)\u001b[0m\u001b[0;34m)\u001b[0m\u001b[0;34m\u001b[0m\u001b[0;34m\u001b[0m\u001b[0m\n",
            "\u001b[0;32m/content/spark-3.1.2-bin-hadoop2.7/python/pyspark/sql/column.py\u001b[0m in \u001b[0;36mcast\u001b[0;34m(self, dataType)\u001b[0m\n\u001b[1;32m    768\u001b[0m         \"\"\"\n\u001b[1;32m    769\u001b[0m         \u001b[0;32mif\u001b[0m \u001b[0misinstance\u001b[0m\u001b[0;34m(\u001b[0m\u001b[0mdataType\u001b[0m\u001b[0;34m,\u001b[0m \u001b[0mstr\u001b[0m\u001b[0;34m)\u001b[0m\u001b[0;34m:\u001b[0m\u001b[0;34m\u001b[0m\u001b[0;34m\u001b[0m\u001b[0m\n\u001b[0;32m--> 770\u001b[0;31m             \u001b[0mjc\u001b[0m \u001b[0;34m=\u001b[0m \u001b[0mself\u001b[0m\u001b[0;34m.\u001b[0m\u001b[0m_jc\u001b[0m\u001b[0;34m.\u001b[0m\u001b[0mcast\u001b[0m\u001b[0;34m(\u001b[0m\u001b[0mdataType\u001b[0m\u001b[0;34m)\u001b[0m\u001b[0;34m\u001b[0m\u001b[0;34m\u001b[0m\u001b[0m\n\u001b[0m\u001b[1;32m    771\u001b[0m         \u001b[0;32melif\u001b[0m \u001b[0misinstance\u001b[0m\u001b[0;34m(\u001b[0m\u001b[0mdataType\u001b[0m\u001b[0;34m,\u001b[0m \u001b[0mDataType\u001b[0m\u001b[0;34m)\u001b[0m\u001b[0;34m:\u001b[0m\u001b[0;34m\u001b[0m\u001b[0;34m\u001b[0m\u001b[0m\n\u001b[1;32m    772\u001b[0m             \u001b[0;32mfrom\u001b[0m \u001b[0mpyspark\u001b[0m\u001b[0;34m.\u001b[0m\u001b[0msql\u001b[0m \u001b[0;32mimport\u001b[0m \u001b[0mSparkSession\u001b[0m\u001b[0;34m\u001b[0m\u001b[0;34m\u001b[0m\u001b[0m\n",
            "\u001b[0;32m/content/spark-3.1.2-bin-hadoop2.7/python/lib/py4j-0.10.9-src.zip/py4j/java_gateway.py\u001b[0m in \u001b[0;36m__call__\u001b[0;34m(self, *args)\u001b[0m\n\u001b[1;32m   1303\u001b[0m         \u001b[0manswer\u001b[0m \u001b[0;34m=\u001b[0m \u001b[0mself\u001b[0m\u001b[0;34m.\u001b[0m\u001b[0mgateway_client\u001b[0m\u001b[0;34m.\u001b[0m\u001b[0msend_command\u001b[0m\u001b[0;34m(\u001b[0m\u001b[0mcommand\u001b[0m\u001b[0;34m)\u001b[0m\u001b[0;34m\u001b[0m\u001b[0;34m\u001b[0m\u001b[0m\n\u001b[1;32m   1304\u001b[0m         return_value = get_return_value(\n\u001b[0;32m-> 1305\u001b[0;31m             answer, self.gateway_client, self.target_id, self.name)\n\u001b[0m\u001b[1;32m   1306\u001b[0m \u001b[0;34m\u001b[0m\u001b[0m\n\u001b[1;32m   1307\u001b[0m         \u001b[0;32mfor\u001b[0m \u001b[0mtemp_arg\u001b[0m \u001b[0;32min\u001b[0m \u001b[0mtemp_args\u001b[0m\u001b[0;34m:\u001b[0m\u001b[0;34m\u001b[0m\u001b[0;34m\u001b[0m\u001b[0m\n",
            "\u001b[0;32m/content/spark-3.1.2-bin-hadoop2.7/python/pyspark/sql/utils.py\u001b[0m in \u001b[0;36mdeco\u001b[0;34m(*a, **kw)\u001b[0m\n\u001b[1;32m    115\u001b[0m                 \u001b[0;31m# Hide where the exception came from that shows a non-Pythonic\u001b[0m\u001b[0;34m\u001b[0m\u001b[0;34m\u001b[0m\u001b[0;34m\u001b[0m\u001b[0m\n\u001b[1;32m    116\u001b[0m                 \u001b[0;31m# JVM exception message.\u001b[0m\u001b[0;34m\u001b[0m\u001b[0;34m\u001b[0m\u001b[0;34m\u001b[0m\u001b[0m\n\u001b[0;32m--> 117\u001b[0;31m                 \u001b[0;32mraise\u001b[0m \u001b[0mconverted\u001b[0m \u001b[0;32mfrom\u001b[0m \u001b[0;32mNone\u001b[0m\u001b[0;34m\u001b[0m\u001b[0;34m\u001b[0m\u001b[0m\n\u001b[0m\u001b[1;32m    118\u001b[0m             \u001b[0;32melse\u001b[0m\u001b[0;34m:\u001b[0m\u001b[0;34m\u001b[0m\u001b[0;34m\u001b[0m\u001b[0m\n\u001b[1;32m    119\u001b[0m                 \u001b[0;32mraise\u001b[0m\u001b[0;34m\u001b[0m\u001b[0;34m\u001b[0m\u001b[0m\n",
            "\u001b[0;31mParseException\u001b[0m: \nDataType datetime is not supported.(line 1, pos 0)\n\n== SQL ==\ndatetime\n^^^\n"
          ]
        }
      ]
    },
    {
      "cell_type": "code",
      "source": [
        "df3 = spark.read.load(\"/content/ipl_venue.csv\",format=\"csv\", sep=\";\", header=\"true\")"
      ],
      "metadata": {
        "id": "blB6hG0Ne6OC"
      },
      "execution_count": 69,
      "outputs": []
    },
    {
      "cell_type": "code",
      "source": [
        "#read the dataset\n",
        "df3 = spark.read.option('header','True').csv('/content/ipl_venue.csv')"
      ],
      "metadata": {
        "id": "h_thtsjOfU7j"
      },
      "execution_count": 70,
      "outputs": []
    },
    {
      "cell_type": "code",
      "source": [
        "df_venue = df3.withColumn('venue_id',col('venue_id').cast('int')).show()\n",
        "df_venue = df3.withColumn('venue',col('venue').cast('varchar(100)'))\n",
        "df_venue = df3.withColumn('city',col('city').cast('varchar(50)'))"
      ],
      "metadata": {
        "colab": {
          "base_uri": "https://localhost:8080/"
        },
        "id": "3-NQgvZ7fY9U",
        "outputId": "50d7d31e-6367-4431-c11c-3a383764b5be"
      },
      "execution_count": 73,
      "outputs": [
        {
          "output_type": "stream",
          "name": "stdout",
          "text": [
            "+--------+--------------------+--------------+\n",
            "|venue_id|               venue|          city|\n",
            "+--------+--------------------+--------------+\n",
            "|       1|Dr. Y.S. Rajasekh...| Visakhapatnam|\n",
            "|       2|Sharjah Cricket S...|       Sharjah|\n",
            "|       3|JSCA Internationa...|        Ranchi|\n",
            "|       4|Saurashtra Cricke...|        Rajkot|\n",
            "|       5|Shaheed Veer Nara...|        Raipur|\n",
            "|       6|Maharashtra Crick...|          Pune|\n",
            "|       7|Subrata Roy Sahar...|          Pune|\n",
            "|       8|    St George's Park|Port Elizabeth|\n",
            "|       9|Vidarbha Cricket ...|        Nagpur|\n",
            "|      12|   Brabourne Stadium|        Mumbai|\n",
            "|      13|Dr DY Patil Sport...|        Mumbai|\n",
            "|      14|    Wankhede Stadium|        Mumbai|\n",
            "|      15|        Eden Gardens|       Kolkata|\n",
            "|      16|       Nehru Stadium|         Kochi|\n",
            "|      17|De Beers Diamond ...|     Kimberley|\n",
            "|      18|          Green Park|        Kanpur|\n",
            "|      19|New Wanderers Sta...|  Johannesburg|\n",
            "|      20|Sawai Mansingh St...|        Jaipur|\n",
            "|      21|Holkar Cricket St...|        Indore|\n",
            "|      22|Rajiv Gandhi Inte...|     Hyderabad|\n",
            "+--------+--------------------+--------------+\n",
            "only showing top 20 rows\n",
            "\n"
          ]
        }
      ]
    },
    {
      "cell_type": "code",
      "source": [
        "df_venue.printSchema()"
      ],
      "metadata": {
        "colab": {
          "base_uri": "https://localhost:8080/"
        },
        "id": "_SDoNGbfl5c2",
        "outputId": "667a6ff7-3ce5-4487-e9bb-474418cc5fbb"
      },
      "execution_count": 74,
      "outputs": [
        {
          "output_type": "stream",
          "name": "stdout",
          "text": [
            "root\n",
            " |-- venue_id: string (nullable = true)\n",
            " |-- venue: string (nullable = true)\n",
            " |-- city: string (nullable = true)\n",
            "\n"
          ]
        }
      ]
    },
    {
      "cell_type": "markdown",
      "source": [
        "Section 2: Using pySpark for data analysis"
      ],
      "metadata": {
        "id": "V8mJ5XtdfmLg"
      }
    },
    {
      "cell_type": "markdown",
      "source": [
        "1. Find the top 3 venues which hosted the most number of eliminator matches?"
      ],
      "metadata": {
        "id": "q0b-D5BJftds"
      }
    },
    {
      "cell_type": "code",
      "source": [
        ""
      ],
      "metadata": {
        "id": "XEtbtYNhfy-_"
      },
      "execution_count": null,
      "outputs": []
    }
  ]
}