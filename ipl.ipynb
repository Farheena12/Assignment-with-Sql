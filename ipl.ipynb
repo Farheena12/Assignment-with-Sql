{
  "nbformat": 4,
  "nbformat_minor": 0,
  "metadata": {
    "colab": {
      "name": "Untitled11.ipynb",
      "provenance": [],
      "mount_file_id": "1p6JEESKonL3Eb6RVzA8OjWhHatR4MEya",
      "authorship_tag": "ABX9TyOyMCF9Be0vKY4ZLyCfRflt",
      "include_colab_link": true
    },
    "kernelspec": {
      "name": "python3",
      "display_name": "Python 3"
    },
    "language_info": {
      "name": "python"
    }
  },
  "cells": [
    {
      "cell_type": "markdown",
      "metadata": {
        "id": "view-in-github",
        "colab_type": "text"
      },
      "source": [
        "<a href=\"https://colab.research.google.com/github/Farheena12/Assignment-with-Sql/blob/main/ipl.ipynb\" target=\"_parent\"><img src=\"https://colab.research.google.com/assets/colab-badge.svg\" alt=\"Open In Colab\"/></a>"
      ]
    },
    {
      "cell_type": "markdown",
      "source": [
        "**Assessment for DE Internship at DataGrokr**"
      ],
      "metadata": {
        "id": "bRK82QF-GMed"
      }
    },
    {
      "cell_type": "markdown",
      "source": [
        "Section 1: Environment setup and data loading"
      ],
      "metadata": {
        "id": "SHGQvteoGazL"
      }
    },
    {
      "cell_type": "code",
      "source": [
        "!apt-get install openjdk-8-jdk-headless -qq > /dev/null"
      ],
      "metadata": {
        "id": "MH8-mbOuGdNr"
      },
      "execution_count": 8,
      "outputs": []
    },
    {
      "cell_type": "code",
      "source": [
        "!wget -q https://archive.apache.org/dist/spark/spark-3.1.2/spark-3.1.2-bin-hadoop2.7.tgz"
      ],
      "metadata": {
        "id": "hYETYeQCGm_5"
      },
      "execution_count": 9,
      "outputs": []
    },
    {
      "cell_type": "code",
      "source": [
        "!tar xf spark-3.1.2-bin-hadoop2.7.tgz"
      ],
      "metadata": {
        "id": "kTFdTv2EG2MO"
      },
      "execution_count": 10,
      "outputs": []
    },
    {
      "cell_type": "code",
      "source": [
        "import os\n",
        "os.environ[\"JAVA_HOME\"] = \"/usr/lib/jvm/java-8-openjdk-amd64\"\n",
        "os.environ[\"SPARK_HOME\"] = \"/content/spark-3.1.2-bin-hadoop2.7\""
      ],
      "metadata": {
        "id": "Mf_pq1MzG8zr"
      },
      "execution_count": 11,
      "outputs": []
    },
    {
      "cell_type": "code",
      "source": [
        "!pip install -q findspark\n",
        "import findspark\n",
        "findspark.init()"
      ],
      "metadata": {
        "id": "iuKTywgKHQVj"
      },
      "execution_count": 12,
      "outputs": []
    },
    {
      "cell_type": "code",
      "source": [
        "from pyspark.sql import SparkSession\n",
        "spark = (SparkSession.builder.appName(\"iplapp\").getOrCreate())"
      ],
      "metadata": {
        "id": "tWbszNblI285"
      },
      "execution_count": 13,
      "outputs": []
    },
    {
      "cell_type": "code",
      "source": [
        "df = spark.read.load(\"/ipl_ball_by_ball.csv\",\n",
        "                     format=\"csv\", sep=\";\", inferSchema=\"true\", header=\"true\")"
      ],
      "metadata": {
        "id": "-FSk2NhkLwmh"
      },
      "execution_count": 14,
      "outputs": []
    },
    {
      "cell_type": "code",
      "source": [
        "#read the dataset\n",
        "df = spark.read.option('header','True').csv('/ipl_ball_by_ball.csv').show()"
      ],
      "metadata": {
        "colab": {
          "base_uri": "https://localhost:8080/"
        },
        "id": "yAitgWM5Uox-",
        "outputId": "726f122f-33e7-4c3f-aed7-a8bde8fe07ba"
      },
      "execution_count": 19,
      "outputs": [
        {
          "output_type": "stream",
          "name": "stdout",
          "text": [
            "+--------+------+-----+----+-------------+-------------+------------+------------+----------+----------+------------+---------+--------------+----------------+-------+-----------+--------------------+--------------------+\n",
            "|match_id|inning|overs|ball|      batsman|  non_striker|      bowler|batsman_runs|extra_runs|total_runs|non_boundary|is_wicket|dismissal_kind|player_dismissed|fielder|extras_type|        batting_team|        bowling_team|\n",
            "+--------+------+-----+----+-------------+-------------+------------+------------+----------+----------+------------+---------+--------------+----------------+-------+-----------+--------------------+--------------------+\n",
            "|  419157|     2|   16|   4|      V Kohli|R Vinay Kumar|CRD Fernando|           0|         0|         0|           0|        0|            NA|              NA|     NA|         NA|Royal Challengers...|      Mumbai Indians|\n",
            "|  419157|     2|   16|   5|      V Kohli|R Vinay Kumar|CRD Fernando|           1|         0|         1|           0|        0|            NA|              NA|     NA|         NA|Royal Challengers...|      Mumbai Indians|\n",
            "|  419157|     2|   16|   6|R Vinay Kumar|      V Kohli|CRD Fernando|           1|         0|         1|           0|        0|            NA|              NA|     NA|         NA|Royal Challengers...|      Mumbai Indians|\n",
            "|  419157|     2|   17|   1|R Vinay Kumar|      V Kohli|   R McLaren|           1|         0|         1|           0|        0|            NA|              NA|     NA|         NA|Royal Challengers...|      Mumbai Indians|\n",
            "|  419157|     2|   17|   2|      V Kohli|R Vinay Kumar|   R McLaren|           1|         0|         1|           0|        0|            NA|              NA|     NA|         NA|Royal Challengers...|      Mumbai Indians|\n",
            "|  419157|     2|   17|   3|R Vinay Kumar|      V Kohli|   R McLaren|           0|         0|         0|           0|        0|            NA|              NA|     NA|         NA|Royal Challengers...|      Mumbai Indians|\n",
            "|  419157|     2|   17|   4|R Vinay Kumar|      V Kohli|   R McLaren|           0|         0|         0|           0|        0|            NA|              NA|     NA|         NA|Royal Challengers...|      Mumbai Indians|\n",
            "|  419157|     2|   17|   5|R Vinay Kumar|      V Kohli|   R McLaren|           1|         0|         1|           0|        0|            NA|              NA|     NA|         NA|Royal Challengers...|      Mumbai Indians|\n",
            "|  419157|     2|   17|   6|      V Kohli|R Vinay Kumar|   R McLaren|           1|         0|         1|           0|        0|            NA|              NA|     NA|         NA|Royal Challengers...|      Mumbai Indians|\n",
            "|  419157|     2|   18|   1|      V Kohli|R Vinay Kumar|  KA Pollard|           4|         0|         4|           0|        0|            NA|              NA|     NA|         NA|Royal Challengers...|      Mumbai Indians|\n",
            "|  419157|     2|   18|   2|      V Kohli|R Vinay Kumar|  KA Pollard|           0|         0|         0|           0|        1|        caught|         V Kohli|AP Tare|         NA|Royal Challengers...|      Mumbai Indians|\n",
            "|  419157|     2|   18|   3|R Vinay Kumar| Pankaj Singh|  KA Pollard|           0|         1|         1|           0|        0|            NA|              NA|     NA|      wides|Royal Challengers...|      Mumbai Indians|\n",
            "|  419157|     2|   18|   4|R Vinay Kumar| Pankaj Singh|  KA Pollard|           1|         0|         1|           0|        0|            NA|              NA|     NA|         NA|Royal Challengers...|      Mumbai Indians|\n",
            "|  419157|     2|   18|   5| Pankaj Singh|R Vinay Kumar|  KA Pollard|           1|         0|         1|           0|        0|            NA|              NA|     NA|         NA|Royal Challengers...|      Mumbai Indians|\n",
            "|  419157|     2|   18|   6|R Vinay Kumar| Pankaj Singh|  KA Pollard|           1|         0|         1|           0|        0|            NA|              NA|     NA|         NA|Royal Challengers...|      Mumbai Indians|\n",
            "|  419157|     2|   18|   7| Pankaj Singh|R Vinay Kumar|  KA Pollard|           0|         0|         0|           0|        1|        caught|    Pankaj Singh| Z Khan|         NA|Royal Challengers...|      Mumbai Indians|\n",
            "|  419157|     2|   19|   1|     A Kumble|R Vinay Kumar|   R McLaren|           0|         0|         0|           0|        0|            NA|              NA|     NA|         NA|Royal Challengers...|      Mumbai Indians|\n",
            "|  419157|     1|    0|   1|    R McLaren| SR Tendulkar|    DW Steyn|           1|         0|         1|           0|        0|            NA|              NA|     NA|         NA|      Mumbai Indians|Royal Challengers...|\n",
            "|  419157|     1|    0|   2| SR Tendulkar|    R McLaren|    DW Steyn|           0|         0|         0|           0|        0|            NA|              NA|     NA|         NA|      Mumbai Indians|Royal Challengers...|\n",
            "|  419157|     1|    0|   3| SR Tendulkar|    R McLaren|    DW Steyn|           1|         0|         1|           0|        0|            NA|              NA|     NA|         NA|      Mumbai Indians|Royal Challengers...|\n",
            "+--------+------+-----+----+-------------+-------------+------------+------------+----------+----------+------------+---------+--------------+----------------+-------+-----------+--------------------+--------------------+\n",
            "only showing top 20 rows\n",
            "\n"
          ]
        }
      ]
    },
    {
      "cell_type": "code",
      "source": [
        ""
      ],
      "metadata": {
        "id": "HxSuNNE7U4s2"
      },
      "execution_count": null,
      "outputs": []
    }
  ]
}